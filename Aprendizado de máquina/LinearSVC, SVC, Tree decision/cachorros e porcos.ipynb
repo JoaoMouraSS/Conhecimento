{
 "cells": [
  {
   "cell_type": "code",
   "execution_count": 2,
   "id": "2311fec1",
   "metadata": {},
   "outputs": [],
   "source": [
    "# Modelo que separa um animal misterioso entre cachorro e porco\n",
    "\n",
    "# features \n",
    "        \n",
    "        # pelo longo?\n",
    "        # pelo curto?\n",
    "        # late?\n",
    "        \n",
    "porco1 = [0,1,0]\n",
    "porco2 = [0,1,1]\n",
    "porco3 = [1,1,0]\n",
    "\n",
    "cachorro1 = [0,1,1]\n",
    "cachorro2 = [1,0,1]\n",
    "cachorro3 = [1,1,1]\n",
    "\n",
    "# Classes:  0 == cachorro; 1==porco\n",
    "\n",
    "train_x = [porco1, porco2, porco3, cachorro1,cachorro2,cachorro3]\n",
    "train_y = [1,1,1,0,0,0]"
   ]
  },
  {
   "cell_type": "code",
   "execution_count": 4,
   "id": "a1701150",
   "metadata": {},
   "outputs": [
    {
     "data": {
      "text/plain": [
       "LinearSVC()"
      ]
     },
     "execution_count": 4,
     "metadata": {},
     "output_type": "execute_result"
    }
   ],
   "source": [
    "#Importanto a biblio e treinando o modelo:\n",
    "\n",
    "from sklearn.svm import LinearSVC\n",
    "\n",
    "model = LinearSVC()\n",
    "model.fit(train_x,train_y)"
   ]
  },
  {
   "cell_type": "code",
   "execution_count": 9,
   "id": "9c26bfe2",
   "metadata": {},
   "outputs": [],
   "source": [
    "# Dados de test do modelo:\n",
    "\n",
    "misterio1 = [1,1,1]\n",
    "misterio2 = [1,1,0]\n",
    "misterio3 = [0,1,1]\n",
    "\n",
    "test_x = [misterio1,misterio2,misterio3]\n",
    "test_y = [0,1,1]"
   ]
  },
  {
   "cell_type": "code",
   "execution_count": 10,
   "id": "42c2e2c0",
   "metadata": {},
   "outputs": [],
   "source": [
    "# Predição dos dados:\n",
    "\n",
    "predict = model.predict(test_x)"
   ]
  },
  {
   "cell_type": "code",
   "execution_count": 16,
   "id": "bcd425db",
   "metadata": {},
   "outputs": [
    {
     "data": {
      "text/plain": [
       "0.6666666666666666"
      ]
     },
     "execution_count": 16,
     "metadata": {},
     "output_type": "execute_result"
    }
   ],
   "source": [
    "# Obtendo a acurancia do modelo\n",
    "\n",
    "from sklearn.metrics import accuracy_score\n",
    "\n",
    "accuracy = accuracy_score(predict, test_y)\n",
    "accuracy.100"
   ]
  },
  {
   "cell_type": "code",
   "execution_count": null,
   "id": "2f0da057",
   "metadata": {},
   "outputs": [],
   "source": []
  }
 ],
 "metadata": {
  "kernelspec": {
   "display_name": "Python 3",
   "language": "python",
   "name": "python3"
  },
  "language_info": {
   "codemirror_mode": {
    "name": "ipython",
    "version": 3
   },
   "file_extension": ".py",
   "mimetype": "text/x-python",
   "name": "python",
   "nbconvert_exporter": "python",
   "pygments_lexer": "ipython3",
   "version": "3.8.8"
  }
 },
 "nbformat": 4,
 "nbformat_minor": 5
}
