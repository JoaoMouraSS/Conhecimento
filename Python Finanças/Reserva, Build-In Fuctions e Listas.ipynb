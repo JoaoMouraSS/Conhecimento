{
 "cells": [
  {
   "attachments": {},
   "cell_type": "markdown",
   "metadata": {},
   "source": [
    "### Reservamento de palavras"
   ]
  },
  {
   "attachments": {},
   "cell_type": "markdown",
   "metadata": {},
   "source": [
    "Sempre que o nome da função estiver com a cor **VERDE** temos que é uma palavra reservada pelo.\n",
    "\n",
    "No meu caso usando o tema Dracula no VsCode, a cor dessa palavra reservada será **ROSA**"
   ]
  },
  {
   "cell_type": "code",
   "execution_count": null,
   "metadata": {},
   "outputs": [],
   "source": [
    "# 2 Exemplos aqui\n",
    "def multiplicar(x=1,y=1):\n",
    "    resultado = x*y\n",
    "    return resultado\n",
    "\n",
    "# Um outro exemplo é o elemento \"del\" "
   ]
  },
  {
   "attachments": {},
   "cell_type": "markdown",
   "metadata": {},
   "source": [
    "### Build-In Functions Notáveis em Python"
   ]
  },
  {
   "attachments": {},
   "cell_type": "markdown",
   "metadata": {},
   "source": [
    "type() = Verifica o tipo da variável\n",
    "\n",
    "int() = Transforma o valor em inteiro\n",
    "\n",
    "float() = Transforma o valor em float\n",
    "\n",
    "str() = Transforma o valor em string\n",
    "\n",
    "max() = verificar o maior valor de uma sequencia de numeros\n",
    "\n",
    "min() = verificar o menor valor de uma sequencia de numeros\n",
    "\n",
    "abs() = permite que você obtenha o valor absoluto do seu argumento\n",
    "\n",
    "sum() = calcula a soma de todos elementos em uma lista designada como argumento\n",
    "\n",
    "round(x,y) = retorna o float do argumento x, arredondado para um número especíifico de dígito y depois do ponto decimal\n",
    "\n",
    "pow(x,y) = retorna x elevado à potência de y\n",
    "\n",
    "len() = retorna número de elementos de um elemento passado"
   ]
  },
  {
   "attachments": {},
   "cell_type": "markdown",
   "metadata": {},
   "source": [
    "### Listas"
   ]
  },
  {
   "cell_type": "code",
   "execution_count": null,
   "metadata": {},
   "outputs": [],
   "source": [
    "# Substituir valores em uma lista\n",
    "lista = ['João', 'Maria', 'Pedro', 'Lucas']\n",
    "\n",
    "# Substituindo o último elemento\n",
    "lista[3] = 'Tiago'\n",
    "\n",
    "# Resultado\n",
    "lista"
   ]
  },
  {
   "cell_type": "code",
   "execution_count": null,
   "metadata": {},
   "outputs": [],
   "source": [
    "# Removendo um elemento - É uma palavra reservada\n",
    "del lista[2]\n",
    "\n",
    "# Depois de remover esse elemento, haverá uma modificação nas posições da lista\n",
    "lista"
   ]
  },
  {
   "cell_type": "code",
   "execution_count": null,
   "metadata": {},
   "outputs": [],
   "source": [
    "# Adicionando um único elemento na lista\n",
    "lista.append('Vitor')\n",
    "\n",
    "# Resultado\n",
    "lista"
   ]
  },
  {
   "cell_type": "code",
   "execution_count": null,
   "metadata": {},
   "outputs": [],
   "source": [
    "# Adicionando vários elementos de uma única vez na lista\n",
    "lista.extend(['Catarina', 'George'])\n",
    "\n",
    "# Resultado\n",
    "lista"
   ]
  },
  {
   "cell_type": "code",
   "execution_count": null,
   "metadata": {},
   "outputs": [],
   "source": [
    "# Verificando a posição de um determinado elemento\n",
    "lista.index('Vitor')"
   ]
  },
  {
   "cell_type": "code",
   "execution_count": null,
   "metadata": {},
   "outputs": [],
   "source": [
    "# Ordnando os valores pela ordem crescente\n",
    "lista.sort()\n",
    "\n",
    "# Ordenando os valores pela ordem decressente\n",
    "lista.sort(reverse=True)"
   ]
  }
 ],
 "metadata": {
  "kernelspec": {
   "display_name": "base",
   "language": "python",
   "name": "python3"
  },
  "language_info": {
   "codemirror_mode": {
    "name": "ipython",
    "version": 3
   },
   "file_extension": ".py",
   "mimetype": "text/x-python",
   "name": "python",
   "nbconvert_exporter": "python",
   "pygments_lexer": "ipython3",
   "version": "3.9.13 (main, Aug 25 2022, 23:51:50) [MSC v.1916 64 bit (AMD64)]"
  },
  "orig_nbformat": 4,
  "vscode": {
   "interpreter": {
    "hash": "d085d2508a1aa4d1a3cff6aaaa3bf934685ce8bc1145bc78ff1cb32b428d0398"
   }
  }
 },
 "nbformat": 4,
 "nbformat_minor": 2
}
