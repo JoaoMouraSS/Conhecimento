{
 "cells": [
  {
   "attachments": {},
   "cell_type": "markdown",
   "metadata": {},
   "source": [
    "### Random"
   ]
  },
  {
   "attachments": {},
   "cell_type": "markdown",
   "metadata": {},
   "source": [
    "Em muitos casos será necessário gerar números aleatório para preencher os dados financeiros"
   ]
  },
  {
   "cell_type": "code",
   "execution_count": 1,
   "metadata": {},
   "outputs": [],
   "source": [
    "# Importando o modulo\n",
    "import random\n",
    "\n",
    "# Valores probabilisticos aleatórios\n",
    "prob = random.random()\n",
    "\n",
    "# Valores inteiros aleatórios\n",
    "inteiro = random.randint(1,6)"
   ]
  },
  {
   "attachments": {},
   "cell_type": "markdown",
   "metadata": {},
   "source": [
    "### Arrays"
   ]
  },
  {
   "attachments": {},
   "cell_type": "markdown",
   "metadata": {},
   "source": [
    "O array facilita bastante o trabalho com grandes escalas de dados, convertendo todos os dados para valores interios. \n",
    "\n",
    "O array pode ser considerado um Vetor, caso seja um único array. Portanto, se existir um conjunto de arrays devemos considerar trabalhar com uma Matriz.\n",
    "\n",
    "    - Vetor = 1D\n",
    "    - Matriz = 2D\n",
    "\n",
    "Portanto, para fazer adição,modificações ou remoção de elementos em um determinada \"Matriz\" devemos considerar trabalhar com o \"i,j\" da matemática, ou seja, as linhas e colunas. Já em um vetor, o trabalho pode ser feito da mesma forma que uma lista"
   ]
  },
  {
   "cell_type": "code",
   "execution_count": 4,
   "metadata": {},
   "outputs": [],
   "source": [
    "# Importando o modulo para trabalhar Arrays\n",
    "import numpy as np\n",
    "\n",
    "# Criar um vetor e Matriz\n",
    "vetor = np.array([1,2,3,4,5])\n",
    "matriz = np.array([[1,2,3,4],[5,6,7,8]])\n",
    "\n",
    "# Criando uma matriz aleatória\n",
    "matriz_aleatoria = np.random.randint(1,6,(4,6))"
   ]
  },
  {
   "attachments": {},
   "cell_type": "markdown",
   "metadata": {},
   "source": [
    "### Dados sobre finanças"
   ]
  },
  {
   "attachments": {},
   "cell_type": "markdown",
   "metadata": {},
   "source": [
    "É necessário usar um módulo diferente para fazer a leitura dos dados financeiros, já que será usada uma API. \n",
    "\n",
    "É muito comum usar, para analise de dados financeiros, o Yahoo Finance, devido a alguma vantagens que ele permite.\n",
    "\n",
    "Para fazer a leitura dos dados é necessário instalar o modulo \"pandas-datareader\""
   ]
  },
  {
   "cell_type": "code",
   "execution_count": null,
   "metadata": {},
   "outputs": [],
   "source": [
    "# Após a instalação do modulo temos que importa-lo\n",
    "From pandas_datareader import data as wb\n",
    "\n",
    "# Gerar os valores financeiros\n",
    "tesla = wb.DateReader('TSLA', data_source = \"yahoo\", start = \"1995-1-1\")"
   ]
  }
 ],
 "metadata": {
  "kernelspec": {
   "display_name": "base",
   "language": "python",
   "name": "python3"
  },
  "language_info": {
   "codemirror_mode": {
    "name": "ipython",
    "version": 3
   },
   "file_extension": ".py",
   "mimetype": "text/x-python",
   "name": "python",
   "nbconvert_exporter": "python",
   "pygments_lexer": "ipython3",
   "version": "3.9.13"
  },
  "orig_nbformat": 4,
  "vscode": {
   "interpreter": {
    "hash": "d085d2508a1aa4d1a3cff6aaaa3bf934685ce8bc1145bc78ff1cb32b428d0398"
   }
  }
 },
 "nbformat": 4,
 "nbformat_minor": 2
}
