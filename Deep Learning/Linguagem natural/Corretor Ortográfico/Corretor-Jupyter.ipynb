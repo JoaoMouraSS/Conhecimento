{
 "cells": [
  {
   "cell_type": "code",
   "execution_count": 11,
   "id": "357aa17b-a522-4bb7-8867-437de65d10c7",
   "metadata": {},
   "outputs": [],
   "source": [
    "import io\n",
    "import nltk as nl\n",
    "\n",
    "q = io.open('artigos.txt','r',encoding = 'utf-8')\n",
    "texto = q.read()"
   ]
  },
  {
   "cell_type": "code",
   "execution_count": 14,
   "id": "db90262d-0fb6-46e9-b470-69565b5ab92d",
   "metadata": {},
   "outputs": [
    {
     "data": {
      "text/plain": [
       "list"
      ]
     },
     "execution_count": 14,
     "metadata": {},
     "output_type": "execute_result"
    }
   ],
   "source": [
    "type(texto.split())"
   ]
  },
  {
   "cell_type": "code",
   "execution_count": 38,
   "id": "ce2f460f-0d0a-4ce1-8140-386cb0f5b33a",
   "metadata": {
    "tags": []
   },
   "outputs": [],
   "source": [
    "# Resultado, usar para treinar o corretor\n",
    "resultado = []\n",
    "for i in nl.tokenize.word_tokenize(str(texto.split())):\n",
    "    if i.isalpha():\n",
    "        resultado.append(i.lower())"
   ]
  },
  {
   "cell_type": "code",
   "execution_count": 39,
   "id": "5fa3c7a3-de1f-4105-9dc1-9b6538d0ec96",
   "metadata": {},
   "outputs": [
    {
     "data": {
      "text/plain": [
       "52499"
      ]
     },
     "execution_count": 39,
     "metadata": {},
     "output_type": "execute_result"
    }
   ],
   "source": [
    "len(resultado)"
   ]
  },
  {
   "cell_type": "code",
   "execution_count": 86,
   "id": "81f9ef8d-65b2-481a-bea1-d20ffc9d2f39",
   "metadata": {},
   "outputs": [],
   "source": [
    "# Corretor Ortográfico\n",
    "\n",
    "# Inserir letra\n",
    "def inserir(palavra):\n",
    "    resultado = []\n",
    "    letras = 'abcdefghijklmnopqrstuvwxyzáâàãéêèẽíîìĩóôõòúûùũç'\n",
    "    for e, d in palavra:\n",
    "        for letras in letras:\n",
    "            resultado.append(e + letras + d)\n",
    "    return resultado              \n",
    "    \n",
    "# Deletar letra\n",
    "def deletar(palavra):\n",
    "    resultado = []\n",
    "    for e, d in palavra:\n",
    "        resultado.append(e + d[1:])    \n",
    "    return resultado\n",
    "\n",
    "# Trocar a letra\n",
    "def trocar(palavra):\n",
    "    resultado = []\n",
    "    letras = 'abcdefghijklmnopqrstuvwxyzáâàãéêèẽíîìĩóôõòúûùũç'\n",
    "    for e, d in palavra:\n",
    "        for letras in letras:\n",
    "            resultado.append(e + letras + d[1:])\n",
    "    return resultado\n",
    "\n",
    "# Inverter letra\n",
    "def inverter(palavra):\n",
    "    resultado = []\n",
    "    for e, d in palavra:\n",
    "        if len(d) > 1:\n",
    "            resultado.append(e + d[1:] + d[0:] + d[2:])\n",
    "    return resultado"
   ]
  },
  {
   "cell_type": "code",
   "execution_count": 87,
   "id": "413530a7-3378-48f2-9a15-9b51a4e237b0",
   "metadata": {},
   "outputs": [],
   "source": [
    "# Gerador de palavras\n",
    "def gerador (palavra):\n",
    "    resultado = []\n",
    "    for i in range(len(palavra)+ 1):\n",
    "        resultado.append((palavra[:i],palavra[i:]))\n",
    "    q = (inserir(resultado))\n",
    "    q += (deletar(resultado))\n",
    "    q += (trocar(resultado))\n",
    "    q += (inverter(resultado))\n",
    "    return q"
   ]
  },
  {
   "cell_type": "code",
   "execution_count": 88,
   "id": "4fef1a4c-95ed-4f0c-9c87-1eaf5aecb64d",
   "metadata": {},
   "outputs": [],
   "source": [
    "# Corretor\n",
    "def corretor(palavra):\n",
    "    ii = gerador(palavra)\n",
    "    correcao = max(ii, key=probabilidade)\n",
    "    return correcao\n",
    "\n",
    "# Probabilidade da palavra\n",
    "def probabilidade(ii):\n",
    "    frequencia = nl.FreqDist(resultado)\n",
    "    total = len(resultado)\n",
    "    prob = frequencia[ii]/total\n",
    "    return prob"
   ]
  },
  {
   "cell_type": "code",
   "execution_count": 93,
   "id": "8ae5d7af-e029-4968-8210-d4941358d44b",
   "metadata": {},
   "outputs": [
    {
     "data": {
      "text/plain": [
       "'alogica'"
      ]
     },
     "execution_count": 93,
     "metadata": {},
     "output_type": "execute_result"
    }
   ],
   "source": [
    "# Corretor foi criado pelo jupyter notebook e obteve um resultado, muito, inferior ao codigo criado no Google Colab. Algumas palabras não consegue corrigir.\n",
    "# Acredito que foi por conta da leitura dos dados para treinar o corretor, pois no jupyter preciso de uma bibli para ler o arquivo.\n",
    "# Pretendo, no futuro, melhorar esse corretor através da plataforma do jupyter."
   ]
  },
  {
   "cell_type": "code",
   "execution_count": null,
   "id": "7c8ef77e-1945-44ce-a4c9-bdb8fc32b6ae",
   "metadata": {},
   "outputs": [],
   "source": []
  }
 ],
 "metadata": {
  "kernelspec": {
   "display_name": "Python 3",
   "language": "python",
   "name": "python3"
  },
  "language_info": {
   "codemirror_mode": {
    "name": "ipython",
    "version": 3
   },
   "file_extension": ".py",
   "mimetype": "text/x-python",
   "name": "python",
   "nbconvert_exporter": "python",
   "pygments_lexer": "ipython3",
   "version": "3.8.8"
  }
 },
 "nbformat": 4,
 "nbformat_minor": 5
}
