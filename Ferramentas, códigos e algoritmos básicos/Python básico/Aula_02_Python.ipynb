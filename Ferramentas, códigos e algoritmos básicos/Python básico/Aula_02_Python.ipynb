{
 "cells": [
  {
   "cell_type": "code",
   "execution_count": null,
   "metadata": {
    "colab": {
     "base_uri": "https://localhost:8080/"
    },
    "id": "rsbkIi4Vv5Mp",
    "outputId": "c8c36509-5fc3-4292-deb5-e58200c4f10e"
   },
   "outputs": [
    {
     "name": "stdout",
     "output_type": "stream",
     "text": [
      "Você é de maior!\n"
     ]
    }
   ],
   "source": [
    "# Confição IF\n",
    "Idade = int( 22 )\n",
    "\n",
    "if Idade >= 18:\n",
    "  print('Você é de maior!')"
   ]
  },
  {
   "cell_type": "code",
   "execution_count": null,
   "metadata": {
    "colab": {
     "base_uri": "https://localhost:8080/"
    },
    "id": "riyCyBCfwn-b",
    "outputId": "1bf8aaf1-d4e3-441c-d86d-e2f581efe629"
   },
   "outputs": [
    {
     "name": "stdout",
     "output_type": "stream",
     "text": [
      "Você é menor de Idade!!! gugudada\n"
     ]
    }
   ],
   "source": [
    "# Condição IF + ELSE\n",
    "\n",
    "Idade = int( 15 )\n",
    "\n",
    "if Idade >= 18:\n",
    "  print('Você é de maior!')\n",
    "\n",
    "else:\n",
    "  print('Você é menor de Idade!!! gugudada')"
   ]
  },
  {
   "cell_type": "code",
   "execution_count": null,
   "metadata": {
    "colab": {
     "base_uri": "https://localhost:8080/"
    },
    "id": "3BYvYS5-xBpd",
    "outputId": "8ec34aab-a2a1-4250-f453-12882c03b1cd"
   },
   "outputs": [
    {
     "name": "stdout",
     "output_type": "stream",
     "text": [
      "Quase um adulto!!! Aproveita !!!!!!!!!!\n"
     ]
    }
   ],
   "source": [
    "# Condição IF + ELSE + ELIF\n",
    "\n",
    "Idade = int( 14 )\n",
    "\n",
    "if Idade > 18:\n",
    "  print('Você é de maior!')\n",
    "\n",
    "elif Idade == 18:\n",
    "  print('Opa! Welcome the jungle!!! ')\n",
    "\n",
    "elif Idade < 18 and Idade >= 14:\n",
    "\n",
    "  if Idade % 2 == 0:\n",
    "    print('Quase um adulto!!! Aproveita !!!!!!!!!!')\n",
    "\n",
    "else:\n",
    "  print('Você é menor de Idade!!! gugudada')"
   ]
  },
  {
   "cell_type": "code",
   "execution_count": null,
   "metadata": {
    "colab": {
     "base_uri": "https://localhost:8080/"
    },
    "id": "LHSWVZhZxasU",
    "outputId": "6074e458-26b6-4238-fe11-bd6e81332c43"
   },
   "outputs": [
    {
     "name": "stdout",
     "output_type": "stream",
     "text": [
      "Qual seu salário: 4000\n",
      "seu desconto é R$560.0 reais ... CHORA BEBE!!!!\n"
     ]
    }
   ],
   "source": [
    "1\n",
    "\n",
    "# Quero saber qual o INSS a pagar\n",
    "\n",
    "# Input do meu salario\n",
    "Salario = float( input('Qual seu salário: ') )\n",
    "\n",
    "if Salario >= 3641.04:\n",
    "  Imposto = Salario * 0.14\n",
    "\n",
    "elif Salario >= 2427.36:\n",
    "  Imposto = Salario * 0.12\n",
    "\n",
    "elif Salario >= 1212.01:\n",
    "  Imposto = Salario * 0.09\n",
    "\n",
    "else:\n",
    "  Imposto = Salario * 0.075\n",
    "\n",
    "print(f'seu desconto é R${Imposto} reais ... CHORA BEBE!!!!')"
   ]
  },
  {
   "cell_type": "code",
   "execution_count": null,
   "metadata": {
    "colab": {
     "base_uri": "https://localhost:8080/"
    },
    "id": "mnt1klqbx66l",
    "outputId": "85391ddf-ef6b-415b-9531-ee3ee4012db1"
   },
   "outputs": [
    {
     "name": "stdout",
     "output_type": "stream",
     "text": [
      "0\n",
      "1\n",
      "4\n",
      "9\n",
      "16\n",
      "25\n",
      "36\n",
      "49\n",
      "64\n",
      "81\n"
     ]
    }
   ],
   "source": [
    "# For [ Loop ]\n",
    "\n",
    "for QualquerCoisaQueVoceQuiser in range(10):\n",
    "  print( QualquerCoisaQueVoceQuiser ** 2  ) "
   ]
  },
  {
   "cell_type": "code",
   "execution_count": null,
   "metadata": {
    "colab": {
     "base_uri": "https://localhost:8080/"
    },
    "id": "jPlWrtVwyTh_",
    "outputId": "eeddea7b-54d8-403e-b6a4-f91e829b7397"
   },
   "outputs": [
    {
     "name": "stdout",
     "output_type": "stream",
     "text": [
      "Brasil\n",
      "Argentina\n",
      "Uruguai\n",
      "Chile\n",
      "Paraguai\n",
      "Bolivia\n",
      "Equador\n",
      "Colombia\n",
      "Suriname, Guiane, Goianai France\n"
     ]
    }
   ],
   "source": [
    "# For + Lista\n",
    "\n",
    "Lista_Paises = ['Brasil', 'Argentina', 'Uruguai', 'Chile', 'Paraguai', 'Bolivia', 'Equador', 'Colombia', 'Suriname, Guiane, Goianai France']\n",
    "\n",
    "for Loop in Lista_Paises:\n",
    "  print( Loop )"
   ]
  },
  {
   "cell_type": "code",
   "execution_count": null,
   "metadata": {
    "colab": {
     "base_uri": "https://localhost:8080/"
    },
    "id": "n4LZrNDJz0YG",
    "outputId": "05059d00-b936-426e-9514-3fd1cb9f6863"
   },
   "outputs": [
    {
     "name": "stdout",
     "output_type": "stream",
     "text": [
      "Brasil\n",
      "Argentina\n",
      "Uruguai\n",
      "Chile\n",
      "Paraguai\n",
      "Bolivia\n",
      "Equador\n",
      "Colombia\n",
      "Suriname, Guiane, Goianai France\n"
     ]
    }
   ],
   "source": [
    "# For + Lista\n",
    "Lista_Paises = ['Brasil', 'Argentina', 'Uruguai', 'Chile', 'Paraguai', 'Bolivia', \n",
    "                'Equador', 'Colombia', 'Suriname, Guiane, Goianai France']\n",
    "\n",
    "for Loop in range( len(Lista_Paises) ):\n",
    "  print( Lista_Paises[Loop] )"
   ]
  },
  {
   "cell_type": "code",
   "execution_count": null,
   "metadata": {
    "colab": {
     "base_uri": "https://localhost:8080/"
    },
    "id": "wtyW4BTG1PhO",
    "outputId": "6f2261f7-58b6-4b58-f751-1ed79fd4289b"
   },
   "outputs": [
    {
     "name": "stdout",
     "output_type": "stream",
     "text": [
      "1\n",
      "2\n",
      "3\n",
      "Chegou\n"
     ]
    }
   ],
   "source": [
    "# For + Lista + IF + Break\n",
    "Lista_Paises = ['Brasil', 'Argentina', 'Uruguai', 'Chile', 'Paraguai', 'Bolivia', \n",
    "                'Equador', 'Colombia', 'Suriname, Guiane, Goianai France']\n",
    "Loop = 0\n",
    "\n",
    "for P in Lista_Paises:\n",
    "\n",
    "  if P == 'Chile':\n",
    "    print('Chegou')\n",
    "    break\n",
    "\n",
    "  else:\n",
    "    pass\n",
    "\n",
    "  Loop += 1\n",
    "  print( Loop )"
   ]
  },
  {
   "cell_type": "code",
   "execution_count": null,
   "metadata": {
    "colab": {
     "base_uri": "https://localhost:8080/"
    },
    "id": "Htxwkbaz1evo",
    "outputId": "7398a080-bb45-4d46-fe46-7667297ab5a1"
   },
   "outputs": [
    {
     "name": "stdout",
     "output_type": "stream",
     "text": [
      "0.0 Brasil\n",
      "0.25 Argentina\n",
      "0.5 Uruguai\n",
      "0.75 Chile\n",
      "1.0 Paraguai\n",
      "1.25 Bolivia\n",
      "1.5 Equador\n",
      "1.75 Colombia\n",
      "2.0 Suriname, Guiane, Goianai France\n"
     ]
    }
   ],
   "source": [
    "# For + Lista + IF + enumerate\n",
    "for Posicao, P in enumerate( Lista_Paises ):\n",
    "  print( Posicao / 4 , P )"
   ]
  },
  {
   "cell_type": "code",
   "execution_count": null,
   "metadata": {
    "colab": {
     "base_uri": "https://localhost:8080/"
    },
    "id": "AhCKkts53Iky",
    "outputId": "f8ad91a3-2075-40b6-e91a-b01955d2ca47"
   },
   "outputs": [
    {
     "name": "stdout",
     "output_type": "stream",
     "text": [
      "[6, 16, 26, 36, 46, 56, 66, 76, 86, 96]\n",
      "    0\n",
      "0   6\n",
      "1  16\n",
      "2  26\n",
      "3  36\n",
      "4  46\n",
      "5  56\n",
      "6  66\n",
      "7  76\n",
      "8  86\n",
      "9  96\n"
     ]
    }
   ],
   "source": [
    "# for + LISTa + IF + RANGE\n",
    "Lista_Numerica = [ Numero for Numero in range(1, 100, 5) ]\n",
    "Armazenar = []\n",
    "\n",
    "for x in Lista_Numerica:\n",
    "\n",
    "  if x % 2 == 0:\n",
    "    Armazenar.append( x )\n",
    "\n",
    "print( Armazenar )\n",
    "\n",
    "from pandas import DataFrame\n",
    "print( DataFrame(Armazenar) )"
   ]
  },
  {
   "cell_type": "code",
   "execution_count": null,
   "metadata": {
    "colab": {
     "base_uri": "https://localhost:8080/"
    },
    "id": "YqQNaJ823st5",
    "outputId": "4c8e9186-2b6a-41a6-bd75-788b28b98faf"
   },
   "outputs": [
    {
     "name": "stdout",
     "output_type": "stream",
     "text": [
      "Moeda do Brasil é Real\n",
      "Mooeda do Brasil é Real\n",
      "Mooeda do Brasil é Real\n"
     ]
    }
   ],
   "source": [
    "# For + Lista + Dicionario\n",
    "\n",
    "Lista = [ 'Brasil', 'Argentina', 'Uruaguai', 'Paraguai' ]\n",
    "\n",
    "Dicionario = {\n",
    "    'Brasil' : 'Real',\n",
    "    'Argentina' : 'Peso ARG',\n",
    "    'Uruaguai' : 'Peso URU',\n",
    "    'Paraguai' : 'Guarany'\n",
    "}\n",
    "\n",
    "for Paises in Lista:\n",
    "\n",
    "  if Paises == 'Brasil':\n",
    "    print( f'Moeda do {Paises} é { Dicionario[Paises] }' )\n",
    "    print('Mooeda do', Paises, 'é', Dicionario[Paises] )\n",
    "    print('Mooeda do ' + str (Paises) + ' é ' + str(Dicionario[Paises] ) )\n",
    "  else:\n",
    "    pass"
   ]
  },
  {
   "cell_type": "code",
   "execution_count": null,
   "metadata": {
    "colab": {
     "base_uri": "https://localhost:8080/"
    },
    "id": "n0kNghzQ3xmt",
    "outputId": "d509603b-887f-4c9f-b69f-49cae5891ac6"
   },
   "outputs": [
    {
     "name": "stdout",
     "output_type": "stream",
     "text": [
      "Deu Ruim!!!\n"
     ]
    }
   ],
   "source": [
    "# Spoilers\n",
    "try:\n",
    "  0 / 0 \n",
    "except:\n",
    "  print('Deu Ruim!!!')"
   ]
  },
  {
   "cell_type": "code",
   "execution_count": null,
   "metadata": {
    "colab": {
     "base_uri": "https://localhost:8080/"
    },
    "id": "a5Tf---56XtU",
    "outputId": "73dcc1a7-67dc-4851-e2fb-959d3d517395"
   },
   "outputs": [
    {
     "name": "stdout",
     "output_type": "stream",
     "text": [
      "Deu ruim!\n",
      "2.0\n",
      "Deu ruim!\n",
      "Deu ruim!\n",
      "2.0\n",
      "Deu ruim!\n",
      "2.0\n",
      "2.0\n",
      "Deu ruim!\n",
      "Deu ruim!\n",
      "2.0\n",
      "Deu ruim!\n",
      "Deu ruim!\n",
      "Deu ruim!\n",
      "2.0\n",
      "2.0\n",
      "2.0\n",
      "Deu ruim!\n"
     ]
    }
   ],
   "source": [
    "# Função para gerar numeros aleatorios\n",
    "from random import randint\n",
    "\n",
    "Lista_Mega_01 = [ randint(0, 1) for Numero in range( 6 ) ]\n",
    "Lista_Mega_02 = [ randint(0, 1) for Numero in range( 6 ) ]\n",
    "Lista_Mega_03 = [ randint(0, 1) for Numero in range( 6 ) ]\n",
    "\n",
    "for Jogo01, Jogo2, Jogo3 in zip( Lista_Mega_01, Lista_Mega_02, Lista_Mega_03 ):\n",
    "\n",
    "  try:\n",
    "    print( 2 / Jogo01 )\n",
    "  except:\n",
    "    print('Deu ruim!')\n",
    "\n",
    "  try:\n",
    "    print( 2 / Jogo2  )\n",
    "  except:\n",
    "    print('Deu ruim!')\n",
    "\n",
    "  try:\n",
    "    print( 2 / Jogo3  )\n",
    "  except:\n",
    "    print('Deu ruim!')"
   ]
  },
  {
   "cell_type": "code",
   "execution_count": null,
   "metadata": {
    "colab": {
     "base_uri": "https://localhost:8080/"
    },
    "id": "MClgvefG6ZUx",
    "outputId": "383dee94-3d58-4a4a-a654-bc6fff8c6acd"
   },
   "outputs": [
    {
     "name": "stdout",
     "output_type": "stream",
     "text": [
      "0\n",
      "1\n",
      "2\n",
      "3\n",
      "4\n",
      "5\n",
      "6\n",
      "7\n",
      "8\n",
      "9\n",
      "10\n"
     ]
    }
   ],
   "source": [
    "# While\n",
    "Loop = 0\n",
    "\n",
    "while Loop <= 10:\n",
    "  print( Loop )\n",
    "  Loop += 1"
   ]
  },
  {
   "cell_type": "code",
   "execution_count": null,
   "metadata": {
    "colab": {
     "base_uri": "https://localhost:8080/"
    },
    "id": "6G31T_CKCXFF",
    "outputId": "9d763b97-5a86-4f3b-8082-88159cdd6742"
   },
   "outputs": [
    {
     "name": "stdout",
     "output_type": "stream",
     "text": [
      "0\n",
      "1\n",
      "2\n",
      "3\n",
      "4\n",
      "0\n",
      "1\n",
      "2\n",
      "3\n",
      "4\n",
      "5\n",
      "6\n",
      "7\n",
      "8\n",
      "9\n",
      "5\n",
      "6\n",
      "7\n",
      "8\n",
      "9\n",
      "10\n"
     ]
    }
   ],
   "source": [
    "# While\n",
    "Loop = 0\n",
    "\n",
    "while Loop <= 10:\n",
    "  print( Loop )\n",
    "  Loop += 1\n",
    "\n",
    "  if Loop == 5:\n",
    "    \n",
    "    for c in range(10):\n",
    "      print(c)"
   ]
  },
  {
   "cell_type": "code",
   "execution_count": null,
   "metadata": {
    "colab": {
     "base_uri": "https://localhost:8080/"
    },
    "id": "nnJf9MPXC0HD",
    "outputId": "85fb924a-b6c3-430c-93cd-fe25556dfd5d"
   },
   "outputs": [
    {
     "name": "stdout",
     "output_type": "stream",
     "text": [
      "1 - 7\n",
      "6 - 5 FINALMENTE !!!!!!!!!!!\n"
     ]
    }
   ],
   "source": [
    "# While True\n",
    "# Joginho\n",
    "\n",
    "while True:\n",
    "\n",
    "  Jogador1 = randint(0, 6)\n",
    "  Jogador2 = randint(5, 10)\n",
    "\n",
    "  if Jogador1 > Jogador2:\n",
    "    print(Jogador1, '-', Jogador2, 'FINALMENTE !!!!!!!!!!!')\n",
    "    break\n",
    "\n",
    "  else:\n",
    "    print(Jogador1, '-', Jogador2)\n"
   ]
  },
  {
   "cell_type": "code",
   "execution_count": null,
   "metadata": {
    "colab": {
     "base_uri": "https://localhost:8080/"
    },
    "id": "k8BoyBCLDY9d",
    "outputId": "3b9766c8-2403-4218-da3d-24745b753e66"
   },
   "outputs": [
    {
     "name": "stdout",
     "output_type": "stream",
     "text": [
      "*** PLACAR FINAL ***\n",
      "Brasil 7 x 5 Alemanha\n"
     ]
    }
   ],
   "source": [
    "# While True\n",
    "# Joginho\n",
    "\n",
    "Placa_01 = 0\n",
    "Placa_02 = 0\n",
    "\n",
    "while True:\n",
    "\n",
    "  Jogador1 = randint(0, 10)\n",
    "  Jogador2 = randint(0, 10)\n",
    "\n",
    "  if Jogador1 > Jogador2:\n",
    "    Placa_01 += 1\n",
    "  else:\n",
    "    Placa_02 += 1\n",
    "\n",
    "  if Placa_01 == 7 or Placa_02 == 7:\n",
    "    break\n",
    "\n",
    "print('*** PLACAR FINAL ***')\n",
    "print(f'Brasil {Placa_01} x {Placa_02} Alemanha')"
   ]
  },
  {
   "cell_type": "code",
   "execution_count": null,
   "metadata": {
    "colab": {
     "base_uri": "https://localhost:8080/"
    },
    "id": "8uk-kQgpFCfM",
    "outputId": "bc0ccb04-63c1-48d0-9910-18ef0b7aa0a6"
   },
   "outputs": [
    {
     "name": "stdout",
     "output_type": "stream",
     "text": [
      "-57.778767\n"
     ]
    }
   ],
   "source": [
    "# Funções simples\n",
    "def Somar(Valor1, Valor2):\n",
    "  Soma = Valor1 + Valor2\n",
    "  print(Soma)\n",
    "\n",
    "Somar(-67.900, 10.121233)"
   ]
  },
  {
   "cell_type": "code",
   "execution_count": null,
   "metadata": {
    "colab": {
     "base_uri": "https://localhost:8080/"
    },
    "id": "lGVcDT7LF3a6",
    "outputId": "101f21c5-3d25-4880-d3f6-55b297a46e71"
   },
   "outputs": [
    {
     "name": "stdout",
     "output_type": "stream",
     "text": [
      "********* BOOTCAMP **************\n"
     ]
    }
   ],
   "source": [
    "def Boas_Vindas():\n",
    "  print('********* BOOTCAMP **************')\n",
    "\n",
    "Boas_Vindas()"
   ]
  },
  {
   "cell_type": "code",
   "execution_count": null,
   "metadata": {
    "colab": {
     "base_uri": "https://localhost:8080/"
    },
    "id": "V--hyE5IGd_1",
    "outputId": "8cee8161-8d76-49dc-b167-7921ee6a5e62"
   },
   "outputs": [
    {
     "name": "stdout",
     "output_type": "stream",
     "text": [
      "Nome dele é: Odemir\n",
      "NADA!\n",
      "Nome dele é: Luigi\n",
      "NADA!\n",
      "Nome dele é: Mariana\n",
      "NADA!\n"
     ]
    }
   ],
   "source": [
    "# Função\n",
    "def Sobrenome( Algum_Texto, Numero ):\n",
    "  print(f'Nome dele é: {Algum_Texto}')\n",
    "\n",
    "  if Numero >= 10:\n",
    "    print('Maior que 10')\n",
    "  else:\n",
    "    print('NADA!')\n",
    "\n",
    "Lista_Nomes = ['Odemir', 'Luigi', 'Mariana']\n",
    "\n",
    "for Nome in Lista_Nomes:\n",
    "  Sobrenome( Nome, randint(1,12) )"
   ]
  },
  {
   "cell_type": "code",
   "execution_count": null,
   "metadata": {
    "colab": {
     "base_uri": "https://localhost:8080/"
    },
    "id": "5FQGSOvNGjGX",
    "outputId": "4a779a20-91aa-4c53-b8a6-22843a9bff9f"
   },
   "outputs": [
    {
     "name": "stdout",
     "output_type": "stream",
     "text": [
      "20\n",
      "200\n"
     ]
    }
   ],
   "source": [
    "# Função\n",
    "Funcao = lambda valor: valor + 10\n",
    "print( Funcao( 10 ) )\n",
    "\n",
    "Funcao_02 = lambda valor1, valor2 : valor1 + valor2\n",
    "print( Funcao_02( 100 , 100 ) )"
   ]
  },
  {
   "cell_type": "code",
   "execution_count": null,
   "metadata": {
    "colab": {
     "base_uri": "https://localhost:8080/",
     "height": 35
    },
    "id": "kCR9L1dmH-Zg",
    "outputId": "c315a70f-2151-4e6f-fc6a-3cc291fe17d5"
   },
   "outputs": [
    {
     "data": {
      "application/vnd.google.colaboratory.intrinsic+json": {
       "type": "string"
      },
      "text/plain": [
       "'Verdadeiro'"
      ]
     },
     "execution_count": 145,
     "metadata": {},
     "output_type": "execute_result"
    }
   ],
   "source": [
    "# Função Lambda\n",
    "Nao_Faxa_isso = lambda Qualquer_Valor: 'Verdadeiro' if Qualquer_Valor % 2 == 0 else 'Falso'\n",
    "#Nao_Faxa_isso = lambda x: True if x % 2 == 0 else Falso\n",
    "Nao_Faxa_isso( 100 )"
   ]
  },
  {
   "cell_type": "code",
   "execution_count": null,
   "metadata": {
    "id": "n5fKPs4lIoxQ"
   },
   "outputs": [],
   "source": [
    "# Classe / Objeto\n",
    "class Pessoa:\n",
    "\n",
    "  # Criando o Metodo\n",
    "  def __init__(self, Nome, Idade):\n",
    "    self.Nome = Nome\n",
    "    self.Idade = Idade\n",
    "\n",
    "  # Função\n",
    "  def Boas_Vinda(self): \n",
    "    print(f'Olá senhor(a) {self.Nome} ')\n",
    "\n",
    "  # Função\n",
    "  def Maior_Idade(self):\n",
    "    if self.Idade >= 18:\n",
    "      print('Maior de Idade')\n",
    "    else:\n",
    "      print('Menor de Idade')\n",
    "\n",
    "    self.Boas_Vinda()\n",
    "  \n",
    "Dados = Pessoa('Odemir Depieri Jr', 29)"
   ]
  },
  {
   "cell_type": "code",
   "execution_count": null,
   "metadata": {
    "colab": {
     "base_uri": "https://localhost:8080/"
    },
    "id": "dgNoj3pxIyFX",
    "outputId": "6a8329c3-18ac-4f49-9287-775d4ee483fa"
   },
   "outputs": [
    {
     "name": "stdout",
     "output_type": "stream",
     "text": [
      "Maior de Idade\n",
      "Olá senhor(a) Odemir Depieri Jr \n"
     ]
    }
   ],
   "source": [
    "Dados.Maior_Idade()"
   ]
  },
  {
   "cell_type": "code",
   "execution_count": null,
   "metadata": {
    "id": "xF_3NqsQKwxx"
   },
   "outputs": [],
   "source": []
  }
 ],
 "metadata": {
  "colab": {
   "collapsed_sections": [],
   "name": "Aula 02 - Python.ipynb",
   "provenance": []
  },
  "kernelspec": {
   "display_name": "Python 3 (ipykernel)",
   "language": "python",
   "name": "python3"
  },
  "language_info": {
   "codemirror_mode": {
    "name": "ipython",
    "version": 3
   },
   "file_extension": ".py",
   "mimetype": "text/x-python",
   "name": "python",
   "nbconvert_exporter": "python",
   "pygments_lexer": "ipython3",
   "version": "3.9.12"
  }
 },
 "nbformat": 4,
 "nbformat_minor": 4
}
